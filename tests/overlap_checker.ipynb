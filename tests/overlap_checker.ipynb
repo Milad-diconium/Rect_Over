{
 "cells": [
  {
   "cell_type": "markdown",
   "id": "55eb4b7c",
   "metadata": {},
   "source": [
    "## A sample code to check overlapping rectangles\n",
    " "
   ]
  },
  {
   "cell_type": "code",
   "execution_count": 1,
   "id": "smoking-century",
   "metadata": {},
   "outputs": [],
   "source": [
    "from overlap_check import find_overlap"
   ]
  },
  {
   "cell_type": "code",
   "execution_count": 2,
   "id": "f271551d",
   "metadata": {},
   "outputs": [],
   "source": [
    "ll = []\n",
    "ur = []\n",
    "\n",
    "#Test Example; We can define as many as rectangles as our needs\n",
    "#Where 1st point is Lower Left coordinate & 2nd point is Upper Right coordinate\n",
    "#1st rect\n",
    "ll.append(find_overlap.Point(0, 0))\n",
    "ur.append(find_overlap.Point(4, 4))\n",
    "\n",
    "#2nd rect\n",
    "ll.append(find_overlap.Point(0, 5))\n",
    "ur.append(find_overlap.Point(10, 10))\n",
    "\n",
    "#3rd rect\n",
    "ll.append(find_overlap.Point(15, 15))\n",
    "ur.append(find_overlap.Point(17, 17))\n",
    "\n",
    "#4th rect\n",
    "ll.append(find_overlap.Point(10, 9))\n",
    "ur.append(find_overlap.Point(14, 14))\n",
    "\n",
    "points_list = list(zip(ll, ur))"
   ]
  },
  {
   "cell_type": "code",
   "execution_count": 3,
   "id": "enclosed-toolbox",
   "metadata": {},
   "outputs": [
    {
     "name": "stdout",
     "output_type": "stream",
     "text": [
      "Rectangles Overlap\n"
     ]
    }
   ],
   "source": [
    "if (find_overlap.do_overlap(points_list)):\n",
    "    print(\"Rectangles Overlap\")\n",
    "else:\n",
    "    print(\"Rectangles Don't Overlap\")"
   ]
  },
  {
   "cell_type": "code",
   "execution_count": null,
   "id": "f536c2d0",
   "metadata": {},
   "outputs": [],
   "source": []
  }
 ],
 "metadata": {
  "kernelspec": {
   "display_name": "Python 3",
   "language": "python",
   "name": "python3"
  },
  "language_info": {
   "codemirror_mode": {
    "name": "ipython",
    "version": 3
   },
   "file_extension": ".py",
   "mimetype": "text/x-python",
   "name": "python",
   "nbconvert_exporter": "python",
   "pygments_lexer": "ipython3",
   "version": "3.8.13"
  }
 },
 "nbformat": 4,
 "nbformat_minor": 5
}